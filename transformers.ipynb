{
 "cells": [
  {
   "cell_type": "markdown",
   "id": "b6240fe9",
   "metadata": {
    "papermill": {
     "duration": 0.023354,
     "end_time": "2021-09-02T17:54:58.088121",
     "exception": false,
     "start_time": "2021-09-02T17:54:58.064767",
     "status": "completed"
    },
    "tags": []
   },
   "source": [
    "# NLP with Transformers"
   ]
  },
  {
   "cell_type": "markdown",
   "id": "0935028e",
   "metadata": {
    "papermill": {
     "duration": 0.022072,
     "end_time": "2021-09-02T17:54:58.132783",
     "exception": false,
     "start_time": "2021-09-02T17:54:58.110711",
     "status": "completed"
    },
    "tags": []
   },
   "source": [
    "I have used this notebook :https://www.kaggle.com/tuckerarrants/bert-with-huggingface-transformers/notebook as a refernece for making my model \n"
   ]
  },
  {
   "cell_type": "code",
   "execution_count": 1,
   "id": "571beff1",
   "metadata": {
    "execution": {
     "iopub.execute_input": "2021-09-02T17:54:58.185052Z",
     "iopub.status.busy": "2021-09-02T17:54:58.183509Z",
     "iopub.status.idle": "2021-09-02T17:55:02.303617Z",
     "shell.execute_reply": "2021-09-02T17:55:02.302675Z",
     "shell.execute_reply.started": "2021-09-02T17:49:17.992968Z"
    },
    "papermill": {
     "duration": 4.146438,
     "end_time": "2021-09-02T17:55:02.303787",
     "exception": false,
     "start_time": "2021-09-02T17:54:58.157349",
     "status": "completed"
    },
    "tags": []
   },
   "outputs": [],
   "source": [
    "import tensorflow as tf\n",
    "from tensorflow import keras\n",
    "import pandas as pd \n",
    "import numpy as np\n",
    "import re\n",
    "import string\n",
    "from tensorflow.keras.preprocessing.text import Tokenizer\n",
    "from tensorflow.keras.preprocessing.sequence import pad_sequences\n",
    "from tensorflow.keras.layers import Embedding, LSTM, Dense, Dropout, Bidirectional\n",
    "from tensorflow.keras.models import Sequential\n",
    "from tensorflow.keras.optimizers import Adam\n",
    "from tensorflow.keras import regularizers\n",
    "import tensorflow.keras.utils as ku"
   ]
  },
  {
   "cell_type": "code",
   "execution_count": 2,
   "id": "415f115c",
   "metadata": {
    "execution": {
     "iopub.execute_input": "2021-09-02T17:55:02.356105Z",
     "iopub.status.busy": "2021-09-02T17:55:02.355480Z",
     "iopub.status.idle": "2021-09-02T17:55:02.420532Z",
     "shell.execute_reply": "2021-09-02T17:55:02.419751Z",
     "shell.execute_reply.started": "2021-09-02T17:49:29.126688Z"
    },
    "papermill": {
     "duration": 0.09419,
     "end_time": "2021-09-02T17:55:02.420679",
     "exception": false,
     "start_time": "2021-09-02T17:55:02.326489",
     "status": "completed"
    },
    "tags": []
   },
   "outputs": [],
   "source": [
    "train = pd.read_csv(\"../input/nlp-getting-started/train.csv\")\n",
    "test = pd.read_csv(\"../input/nlp-getting-started/test.csv\")"
   ]
  },
  {
   "cell_type": "code",
   "execution_count": 3,
   "id": "a054b0ef",
   "metadata": {
    "execution": {
     "iopub.execute_input": "2021-09-02T17:55:02.475929Z",
     "iopub.status.busy": "2021-09-02T17:55:02.474339Z",
     "iopub.status.idle": "2021-09-02T17:55:02.476663Z",
     "shell.execute_reply": "2021-09-02T17:55:02.477064Z",
     "shell.execute_reply.started": "2021-09-02T17:49:31.867010Z"
    },
    "papermill": {
     "duration": 0.034093,
     "end_time": "2021-09-02T17:55:02.477202",
     "exception": false,
     "start_time": "2021-09-02T17:55:02.443109",
     "status": "completed"
    },
    "tags": []
   },
   "outputs": [],
   "source": [
    "test_id = test['id']"
   ]
  },
  {
   "cell_type": "code",
   "execution_count": 4,
   "id": "31c7052d",
   "metadata": {
    "execution": {
     "iopub.execute_input": "2021-09-02T17:55:02.528851Z",
     "iopub.status.busy": "2021-09-02T17:55:02.528201Z",
     "iopub.status.idle": "2021-09-02T17:55:02.545170Z",
     "shell.execute_reply": "2021-09-02T17:55:02.545623Z",
     "shell.execute_reply.started": "2021-09-02T17:49:33.955145Z"
    },
    "papermill": {
     "duration": 0.046426,
     "end_time": "2021-09-02T17:55:02.545762",
     "exception": false,
     "start_time": "2021-09-02T17:55:02.499336",
     "status": "completed"
    },
    "tags": []
   },
   "outputs": [
    {
     "data": {
      "text/html": [
       "<div>\n",
       "<style scoped>\n",
       "    .dataframe tbody tr th:only-of-type {\n",
       "        vertical-align: middle;\n",
       "    }\n",
       "\n",
       "    .dataframe tbody tr th {\n",
       "        vertical-align: top;\n",
       "    }\n",
       "\n",
       "    .dataframe thead th {\n",
       "        text-align: right;\n",
       "    }\n",
       "</style>\n",
       "<table border=\"1\" class=\"dataframe\">\n",
       "  <thead>\n",
       "    <tr style=\"text-align: right;\">\n",
       "      <th></th>\n",
       "      <th>id</th>\n",
       "      <th>keyword</th>\n",
       "      <th>location</th>\n",
       "      <th>text</th>\n",
       "      <th>target</th>\n",
       "    </tr>\n",
       "  </thead>\n",
       "  <tbody>\n",
       "    <tr>\n",
       "      <th>0</th>\n",
       "      <td>1</td>\n",
       "      <td>NaN</td>\n",
       "      <td>NaN</td>\n",
       "      <td>Our Deeds are the Reason of this #earthquake M...</td>\n",
       "      <td>1</td>\n",
       "    </tr>\n",
       "    <tr>\n",
       "      <th>1</th>\n",
       "      <td>4</td>\n",
       "      <td>NaN</td>\n",
       "      <td>NaN</td>\n",
       "      <td>Forest fire near La Ronge Sask. Canada</td>\n",
       "      <td>1</td>\n",
       "    </tr>\n",
       "    <tr>\n",
       "      <th>2</th>\n",
       "      <td>5</td>\n",
       "      <td>NaN</td>\n",
       "      <td>NaN</td>\n",
       "      <td>All residents asked to 'shelter in place' are ...</td>\n",
       "      <td>1</td>\n",
       "    </tr>\n",
       "    <tr>\n",
       "      <th>3</th>\n",
       "      <td>6</td>\n",
       "      <td>NaN</td>\n",
       "      <td>NaN</td>\n",
       "      <td>13,000 people receive #wildfires evacuation or...</td>\n",
       "      <td>1</td>\n",
       "    </tr>\n",
       "    <tr>\n",
       "      <th>4</th>\n",
       "      <td>7</td>\n",
       "      <td>NaN</td>\n",
       "      <td>NaN</td>\n",
       "      <td>Just got sent this photo from Ruby #Alaska as ...</td>\n",
       "      <td>1</td>\n",
       "    </tr>\n",
       "  </tbody>\n",
       "</table>\n",
       "</div>"
      ],
      "text/plain": [
       "   id keyword location                                               text  \\\n",
       "0   1     NaN      NaN  Our Deeds are the Reason of this #earthquake M...   \n",
       "1   4     NaN      NaN             Forest fire near La Ronge Sask. Canada   \n",
       "2   5     NaN      NaN  All residents asked to 'shelter in place' are ...   \n",
       "3   6     NaN      NaN  13,000 people receive #wildfires evacuation or...   \n",
       "4   7     NaN      NaN  Just got sent this photo from Ruby #Alaska as ...   \n",
       "\n",
       "   target  \n",
       "0       1  \n",
       "1       1  \n",
       "2       1  \n",
       "3       1  \n",
       "4       1  "
      ]
     },
     "execution_count": 4,
     "metadata": {},
     "output_type": "execute_result"
    }
   ],
   "source": [
    "train.head()"
   ]
  },
  {
   "cell_type": "markdown",
   "id": "2e8f0bd5",
   "metadata": {
    "papermill": {
     "duration": 0.022625,
     "end_time": "2021-09-02T17:55:02.591334",
     "exception": false,
     "start_time": "2021-09-02T17:55:02.568709",
     "status": "completed"
    },
    "tags": []
   },
   "source": [
    "# Data preprocessing"
   ]
  },
  {
   "cell_type": "markdown",
   "id": "602fcf61",
   "metadata": {
    "papermill": {
     "duration": 0.022293,
     "end_time": "2021-09-02T17:55:02.636132",
     "exception": false,
     "start_time": "2021-09-02T17:55:02.613839",
     "status": "completed"
    },
    "tags": []
   },
   "source": [
    "Here we do some text preprocessing and drop all the columns that are not required by us "
   ]
  },
  {
   "cell_type": "code",
   "execution_count": 5,
   "id": "15009d9f",
   "metadata": {
    "execution": {
     "iopub.execute_input": "2021-09-02T17:55:02.688167Z",
     "iopub.status.busy": "2021-09-02T17:55:02.687537Z",
     "iopub.status.idle": "2021-09-02T17:55:02.690800Z",
     "shell.execute_reply": "2021-09-02T17:55:02.690355Z",
     "shell.execute_reply.started": "2021-09-02T17:49:36.989586Z"
    },
    "papermill": {
     "duration": 0.032137,
     "end_time": "2021-09-02T17:55:02.690913",
     "exception": false,
     "start_time": "2021-09-02T17:55:02.658776",
     "status": "completed"
    },
    "tags": []
   },
   "outputs": [],
   "source": [
    "def remove_URL(text):\n",
    "    url = re.compile(r'https?://\\S+|www\\.\\S+')\n",
    "    return url.sub(r'',text)\n",
    "\n",
    "def remove_html(text):\n",
    "    html=re.compile(r'<.*?>')\n",
    "    return html.sub(r'',text)\n",
    "\n",
    "def remove_emoji(text):\n",
    "    emoji_pattern = re.compile(\"[\"\n",
    "                           u\"\\U0001F600-\\U0001F64F\"  \n",
    "                           u\"\\U0001F300-\\U0001F5FF\"  \n",
    "                           u\"\\U0001F680-\\U0001F6FF\"  \n",
    "                           u\"\\U0001F1E0-\\U0001F1FF\"  \n",
    "                           u\"\\U00002702-\\U000027B0\"\n",
    "                           u\"\\U000024C2-\\U0001F251\"\n",
    "                           \"]+\", flags=re.UNICODE)\n",
    "    return emoji_pattern.sub(r'', text)\n",
    "\n",
    "def remove_punct(text):\n",
    "    table=str.maketrans('','',string.punctuation)\n",
    "    return text.translate(table)"
   ]
  },
  {
   "cell_type": "code",
   "execution_count": 6,
   "id": "87cdbf19",
   "metadata": {
    "execution": {
     "iopub.execute_input": "2021-09-02T17:55:02.774101Z",
     "iopub.status.busy": "2021-09-02T17:55:02.763912Z",
     "iopub.status.idle": "2021-09-02T17:55:02.787923Z",
     "shell.execute_reply": "2021-09-02T17:55:02.788383Z",
     "shell.execute_reply.started": "2021-09-02T17:49:40.093058Z"
    },
    "papermill": {
     "duration": 0.071561,
     "end_time": "2021-09-02T17:55:02.788561",
     "exception": false,
     "start_time": "2021-09-02T17:55:02.717000",
     "status": "completed"
    },
    "tags": []
   },
   "outputs": [],
   "source": [
    "train['text']=train['text'].apply(lambda x : remove_URL(x))"
   ]
  },
  {
   "cell_type": "code",
   "execution_count": 7,
   "id": "59c2f5d5",
   "metadata": {
    "execution": {
     "iopub.execute_input": "2021-09-02T17:55:02.859471Z",
     "iopub.status.busy": "2021-09-02T17:55:02.858505Z",
     "iopub.status.idle": "2021-09-02T17:55:02.861209Z",
     "shell.execute_reply": "2021-09-02T17:55:02.860785Z",
     "shell.execute_reply.started": "2021-09-02T17:49:41.884782Z"
    },
    "papermill": {
     "duration": 0.045998,
     "end_time": "2021-09-02T17:55:02.861349",
     "exception": false,
     "start_time": "2021-09-02T17:55:02.815351",
     "status": "completed"
    },
    "tags": []
   },
   "outputs": [],
   "source": [
    "train['text']=train['text'].apply(lambda x : remove_html(x))"
   ]
  },
  {
   "cell_type": "code",
   "execution_count": 8,
   "id": "2c23e6a8",
   "metadata": {
    "execution": {
     "iopub.execute_input": "2021-09-02T17:55:02.922767Z",
     "iopub.status.busy": "2021-09-02T17:55:02.917676Z",
     "iopub.status.idle": "2021-09-02T17:55:02.969723Z",
     "shell.execute_reply": "2021-09-02T17:55:02.968825Z",
     "shell.execute_reply.started": "2021-09-02T17:49:43.846578Z"
    },
    "papermill": {
     "duration": 0.084102,
     "end_time": "2021-09-02T17:55:02.969860",
     "exception": false,
     "start_time": "2021-09-02T17:55:02.885758",
     "status": "completed"
    },
    "tags": []
   },
   "outputs": [],
   "source": [
    "train['text']=train['text'].apply(lambda x: remove_emoji(x))"
   ]
  },
  {
   "cell_type": "code",
   "execution_count": 9,
   "id": "96a2e03b",
   "metadata": {
    "execution": {
     "iopub.execute_input": "2021-09-02T17:55:03.030015Z",
     "iopub.status.busy": "2021-09-02T17:55:03.024856Z",
     "iopub.status.idle": "2021-09-02T17:55:03.061355Z",
     "shell.execute_reply": "2021-09-02T17:55:03.060830Z",
     "shell.execute_reply.started": "2021-09-02T17:49:45.709263Z"
    },
    "papermill": {
     "duration": 0.068798,
     "end_time": "2021-09-02T17:55:03.061499",
     "exception": false,
     "start_time": "2021-09-02T17:55:02.992701",
     "status": "completed"
    },
    "tags": []
   },
   "outputs": [],
   "source": [
    "train['text']=train['text'].apply(lambda x : remove_punct(x))"
   ]
  },
  {
   "cell_type": "code",
   "execution_count": 10,
   "id": "1f514eb0",
   "metadata": {
    "execution": {
     "iopub.execute_input": "2021-09-02T17:55:03.112880Z",
     "iopub.status.busy": "2021-09-02T17:55:03.112066Z",
     "iopub.status.idle": "2021-09-02T17:55:03.114198Z",
     "shell.execute_reply": "2021-09-02T17:55:03.114697Z",
     "shell.execute_reply.started": "2021-09-02T17:49:47.908030Z"
    },
    "papermill": {
     "duration": 0.03062,
     "end_time": "2021-09-02T17:55:03.114832",
     "exception": false,
     "start_time": "2021-09-02T17:55:03.084212",
     "status": "completed"
    },
    "tags": []
   },
   "outputs": [],
   "source": [
    "train = train.drop(columns = {'keyword', 'location', 'id'})"
   ]
  },
  {
   "cell_type": "markdown",
   "id": "e2e4a7b3",
   "metadata": {
    "papermill": {
     "duration": 0.026458,
     "end_time": "2021-09-02T17:55:03.163695",
     "exception": false,
     "start_time": "2021-09-02T17:55:03.137237",
     "status": "completed"
    },
    "tags": []
   },
   "source": [
    "This is how our data looks like after preprocessing"
   ]
  },
  {
   "cell_type": "code",
   "execution_count": 11,
   "id": "48946632",
   "metadata": {
    "execution": {
     "iopub.execute_input": "2021-09-02T17:55:03.222713Z",
     "iopub.status.busy": "2021-09-02T17:55:03.221909Z",
     "iopub.status.idle": "2021-09-02T17:55:03.225283Z",
     "shell.execute_reply": "2021-09-02T17:55:03.225788Z",
     "shell.execute_reply.started": "2021-09-02T17:49:50.161970Z"
    },
    "papermill": {
     "duration": 0.036043,
     "end_time": "2021-09-02T17:55:03.225929",
     "exception": false,
     "start_time": "2021-09-02T17:55:03.189886",
     "status": "completed"
    },
    "tags": []
   },
   "outputs": [
    {
     "data": {
      "text/html": [
       "<div>\n",
       "<style scoped>\n",
       "    .dataframe tbody tr th:only-of-type {\n",
       "        vertical-align: middle;\n",
       "    }\n",
       "\n",
       "    .dataframe tbody tr th {\n",
       "        vertical-align: top;\n",
       "    }\n",
       "\n",
       "    .dataframe thead th {\n",
       "        text-align: right;\n",
       "    }\n",
       "</style>\n",
       "<table border=\"1\" class=\"dataframe\">\n",
       "  <thead>\n",
       "    <tr style=\"text-align: right;\">\n",
       "      <th></th>\n",
       "      <th>text</th>\n",
       "      <th>target</th>\n",
       "    </tr>\n",
       "  </thead>\n",
       "  <tbody>\n",
       "    <tr>\n",
       "      <th>0</th>\n",
       "      <td>Our Deeds are the Reason of this earthquake Ma...</td>\n",
       "      <td>1</td>\n",
       "    </tr>\n",
       "    <tr>\n",
       "      <th>1</th>\n",
       "      <td>Forest fire near La Ronge Sask Canada</td>\n",
       "      <td>1</td>\n",
       "    </tr>\n",
       "    <tr>\n",
       "      <th>2</th>\n",
       "      <td>All residents asked to shelter in place are be...</td>\n",
       "      <td>1</td>\n",
       "    </tr>\n",
       "    <tr>\n",
       "      <th>3</th>\n",
       "      <td>13000 people receive wildfires evacuation orde...</td>\n",
       "      <td>1</td>\n",
       "    </tr>\n",
       "    <tr>\n",
       "      <th>4</th>\n",
       "      <td>Just got sent this photo from Ruby Alaska as s...</td>\n",
       "      <td>1</td>\n",
       "    </tr>\n",
       "  </tbody>\n",
       "</table>\n",
       "</div>"
      ],
      "text/plain": [
       "                                                text  target\n",
       "0  Our Deeds are the Reason of this earthquake Ma...       1\n",
       "1              Forest fire near La Ronge Sask Canada       1\n",
       "2  All residents asked to shelter in place are be...       1\n",
       "3  13000 people receive wildfires evacuation orde...       1\n",
       "4  Just got sent this photo from Ruby Alaska as s...       1"
      ]
     },
     "execution_count": 11,
     "metadata": {},
     "output_type": "execute_result"
    }
   ],
   "source": [
    "train.head()"
   ]
  },
  {
   "cell_type": "code",
   "execution_count": 12,
   "id": "0cbe1799",
   "metadata": {
    "execution": {
     "iopub.execute_input": "2021-09-02T17:55:03.278637Z",
     "iopub.status.busy": "2021-09-02T17:55:03.277823Z",
     "iopub.status.idle": "2021-09-02T17:55:03.280794Z",
     "shell.execute_reply": "2021-09-02T17:55:03.280365Z",
     "shell.execute_reply.started": "2021-09-02T17:49:52.600978Z"
    },
    "papermill": {
     "duration": 0.031315,
     "end_time": "2021-09-02T17:55:03.280904",
     "exception": false,
     "start_time": "2021-09-02T17:55:03.249589",
     "status": "completed"
    },
    "tags": []
   },
   "outputs": [],
   "source": [
    "test = test.drop(columns = {'id', 'location', 'keyword'})"
   ]
  },
  {
   "cell_type": "code",
   "execution_count": 13,
   "id": "5053ed64",
   "metadata": {
    "execution": {
     "iopub.execute_input": "2021-09-02T17:55:03.334301Z",
     "iopub.status.busy": "2021-09-02T17:55:03.333753Z",
     "iopub.status.idle": "2021-09-02T17:55:03.339414Z",
     "shell.execute_reply": "2021-09-02T17:55:03.338991Z",
     "shell.execute_reply.started": "2021-09-02T17:49:54.587330Z"
    },
    "papermill": {
     "duration": 0.03557,
     "end_time": "2021-09-02T17:55:03.339541",
     "exception": false,
     "start_time": "2021-09-02T17:55:03.303971",
     "status": "completed"
    },
    "tags": []
   },
   "outputs": [
    {
     "data": {
      "text/html": [
       "<div>\n",
       "<style scoped>\n",
       "    .dataframe tbody tr th:only-of-type {\n",
       "        vertical-align: middle;\n",
       "    }\n",
       "\n",
       "    .dataframe tbody tr th {\n",
       "        vertical-align: top;\n",
       "    }\n",
       "\n",
       "    .dataframe thead th {\n",
       "        text-align: right;\n",
       "    }\n",
       "</style>\n",
       "<table border=\"1\" class=\"dataframe\">\n",
       "  <thead>\n",
       "    <tr style=\"text-align: right;\">\n",
       "      <th></th>\n",
       "      <th>text</th>\n",
       "    </tr>\n",
       "  </thead>\n",
       "  <tbody>\n",
       "    <tr>\n",
       "      <th>0</th>\n",
       "      <td>Just happened a terrible car crash</td>\n",
       "    </tr>\n",
       "    <tr>\n",
       "      <th>1</th>\n",
       "      <td>Heard about #earthquake is different cities, s...</td>\n",
       "    </tr>\n",
       "    <tr>\n",
       "      <th>2</th>\n",
       "      <td>there is a forest fire at spot pond, geese are...</td>\n",
       "    </tr>\n",
       "    <tr>\n",
       "      <th>3</th>\n",
       "      <td>Apocalypse lighting. #Spokane #wildfires</td>\n",
       "    </tr>\n",
       "    <tr>\n",
       "      <th>4</th>\n",
       "      <td>Typhoon Soudelor kills 28 in China and Taiwan</td>\n",
       "    </tr>\n",
       "  </tbody>\n",
       "</table>\n",
       "</div>"
      ],
      "text/plain": [
       "                                                text\n",
       "0                 Just happened a terrible car crash\n",
       "1  Heard about #earthquake is different cities, s...\n",
       "2  there is a forest fire at spot pond, geese are...\n",
       "3           Apocalypse lighting. #Spokane #wildfires\n",
       "4      Typhoon Soudelor kills 28 in China and Taiwan"
      ]
     },
     "execution_count": 13,
     "metadata": {},
     "output_type": "execute_result"
    }
   ],
   "source": [
    "test.head()"
   ]
  },
  {
   "cell_type": "markdown",
   "id": "9f522630",
   "metadata": {
    "papermill": {
     "duration": 0.027101,
     "end_time": "2021-09-02T17:55:03.390002",
     "exception": false,
     "start_time": "2021-09-02T17:55:03.362901",
     "status": "completed"
    },
    "tags": []
   },
   "source": [
    "Now let's finally import our model and tokenizer"
   ]
  },
  {
   "cell_type": "code",
   "execution_count": 14,
   "id": "763bad6c",
   "metadata": {
    "execution": {
     "iopub.execute_input": "2021-09-02T17:55:03.446014Z",
     "iopub.status.busy": "2021-09-02T17:55:03.445274Z",
     "iopub.status.idle": "2021-09-02T17:55:05.113230Z",
     "shell.execute_reply": "2021-09-02T17:55:05.112071Z",
     "shell.execute_reply.started": "2021-09-02T17:49:57.366100Z"
    },
    "papermill": {
     "duration": 1.696714,
     "end_time": "2021-09-02T17:55:05.113387",
     "exception": false,
     "start_time": "2021-09-02T17:55:03.416673",
     "status": "completed"
    },
    "tags": []
   },
   "outputs": [],
   "source": [
    "from transformers import TFBertModel, BertModel\n",
    "from transformers import BertTokenizer"
   ]
  },
  {
   "cell_type": "code",
   "execution_count": 15,
   "id": "f61cabfa",
   "metadata": {
    "_kg_hide-output": true,
    "execution": {
     "iopub.execute_input": "2021-09-02T17:55:05.165417Z",
     "iopub.status.busy": "2021-09-02T17:55:05.164572Z",
     "iopub.status.idle": "2021-09-02T17:55:31.385495Z",
     "shell.execute_reply": "2021-09-02T17:55:31.384986Z",
     "shell.execute_reply.started": "2021-09-02T17:50:13.767229Z"
    },
    "papermill": {
     "duration": 26.248601,
     "end_time": "2021-09-02T17:55:31.385632",
     "exception": false,
     "start_time": "2021-09-02T17:55:05.137031",
     "status": "completed"
    },
    "scrolled": true,
    "tags": []
   },
   "outputs": [
    {
     "data": {
      "application/vnd.jupyter.widget-view+json": {
       "model_id": "b4a2d65f7216464f82d3824cd5c3d26e",
       "version_major": 2,
       "version_minor": 0
      },
      "text/plain": [
       "Downloading:   0%|          | 0.00/570 [00:00<?, ?B/s]"
      ]
     },
     "metadata": {},
     "output_type": "display_data"
    },
    {
     "data": {
      "application/vnd.jupyter.widget-view+json": {
       "model_id": "4f2110aaba0044a7bda7ed3cf9a8db8e",
       "version_major": 2,
       "version_minor": 0
      },
      "text/plain": [
       "Downloading:   0%|          | 0.00/536M [00:00<?, ?B/s]"
      ]
     },
     "metadata": {},
     "output_type": "display_data"
    },
    {
     "name": "stderr",
     "output_type": "stream",
     "text": [
      "Some layers from the model checkpoint at bert-base-uncased were not used when initializing TFBertModel: ['nsp___cls', 'mlm___cls']\n",
      "- This IS expected if you are initializing TFBertModel from the checkpoint of a model trained on another task or with another architecture (e.g. initializing a BertForSequenceClassification model from a BertForPreTraining model).\n",
      "- This IS NOT expected if you are initializing TFBertModel from the checkpoint of a model that you expect to be exactly identical (initializing a BertForSequenceClassification model from a BertForSequenceClassification model).\n",
      "All the layers of TFBertModel were initialized from the model checkpoint at bert-base-uncased.\n",
      "If your task is similar to the task the model of the checkpoint was trained on, you can already use TFBertModel for predictions without further training.\n"
     ]
    },
    {
     "data": {
      "application/vnd.jupyter.widget-view+json": {
       "model_id": "94bdb673c79f431ca51df32df241d95b",
       "version_major": 2,
       "version_minor": 0
      },
      "text/plain": [
       "Downloading:   0%|          | 0.00/232k [00:00<?, ?B/s]"
      ]
     },
     "metadata": {},
     "output_type": "display_data"
    },
    {
     "data": {
      "application/vnd.jupyter.widget-view+json": {
       "model_id": "fa80823f28ae4f1eadc164f5f5cc2ee2",
       "version_major": 2,
       "version_minor": 0
      },
      "text/plain": [
       "Downloading:   0%|          | 0.00/28.0 [00:00<?, ?B/s]"
      ]
     },
     "metadata": {},
     "output_type": "display_data"
    },
    {
     "data": {
      "application/vnd.jupyter.widget-view+json": {
       "model_id": "04409de192b74e1bba19a9864de439ba",
       "version_major": 2,
       "version_minor": 0
      },
      "text/plain": [
       "Downloading:   0%|          | 0.00/466k [00:00<?, ?B/s]"
      ]
     },
     "metadata": {},
     "output_type": "display_data"
    }
   ],
   "source": [
    "bert_base = TFBertModel.from_pretrained('bert-base-uncased')\n",
    "TOKENIZER = BertTokenizer.from_pretrained(\"bert-base-uncased\")"
   ]
  },
  {
   "cell_type": "markdown",
   "id": "ff721968",
   "metadata": {
    "papermill": {
     "duration": 0.026591,
     "end_time": "2021-09-02T17:55:31.439000",
     "exception": false,
     "start_time": "2021-09-02T17:55:31.412409",
     "status": "completed"
    },
    "tags": []
   },
   "source": [
    "# Tokenize"
   ]
  },
  {
   "cell_type": "markdown",
   "id": "274aa688",
   "metadata": {
    "papermill": {
     "duration": 0.025764,
     "end_time": "2021-09-02T17:55:31.491306",
     "exception": false,
     "start_time": "2021-09-02T17:55:31.465542",
     "status": "completed"
    },
    "tags": []
   },
   "source": [
    "Let's define the function to tokenize our train and test data "
   ]
  },
  {
   "cell_type": "code",
   "execution_count": 16,
   "id": "7f3a4af4",
   "metadata": {
    "execution": {
     "iopub.execute_input": "2021-09-02T17:55:31.550079Z",
     "iopub.status.busy": "2021-09-02T17:55:31.549206Z",
     "iopub.status.idle": "2021-09-02T17:55:31.552122Z",
     "shell.execute_reply": "2021-09-02T17:55:31.551667Z",
     "shell.execute_reply.started": "2021-09-02T17:50:50.396597Z"
    },
    "papermill": {
     "duration": 0.034626,
     "end_time": "2021-09-02T17:55:31.552235",
     "exception": false,
     "start_time": "2021-09-02T17:55:31.517609",
     "status": "completed"
    },
    "tags": []
   },
   "outputs": [],
   "source": [
    "def bert_encode(data,maximum_len) :\n",
    "    input_ids = []\n",
    "    attention_masks = []\n",
    "  \n",
    "\n",
    "    for i in range(len(data.text)):\n",
    "        encoded = TOKENIZER.encode_plus(data.text[i],\n",
    "                                        add_special_tokens=True,\n",
    "                                        max_length=maximum_len,\n",
    "                                        pad_to_max_length=True,\n",
    "                                        return_attention_mask=True)\n",
    "      \n",
    "        input_ids.append(encoded['input_ids'])\n",
    "        attention_masks.append(encoded['attention_mask'])\n",
    "        \n",
    "    return np.array(input_ids),np.array(attention_masks)"
   ]
  },
  {
   "cell_type": "markdown",
   "id": "b97df2d4",
   "metadata": {
    "papermill": {
     "duration": 0.026132,
     "end_time": "2021-09-02T17:55:31.604753",
     "exception": false,
     "start_time": "2021-09-02T17:55:31.578621",
     "status": "completed"
    },
    "tags": []
   },
   "source": [
    "# Hyperparameters"
   ]
  },
  {
   "cell_type": "markdown",
   "id": "6da04dec",
   "metadata": {
    "papermill": {
     "duration": 0.025912,
     "end_time": "2021-09-02T17:55:31.657110",
     "exception": false,
     "start_time": "2021-09-02T17:55:31.631198",
     "status": "completed"
    },
    "tags": []
   },
   "source": [
    "Lets set the values for our hyperparameters that we will be using "
   ]
  },
  {
   "cell_type": "code",
   "execution_count": 17,
   "id": "c2e36325",
   "metadata": {
    "execution": {
     "iopub.execute_input": "2021-09-02T17:55:31.714737Z",
     "iopub.status.busy": "2021-09-02T17:55:31.713759Z",
     "iopub.status.idle": "2021-09-02T17:55:31.716358Z",
     "shell.execute_reply": "2021-09-02T17:55:31.715889Z",
     "shell.execute_reply.started": "2021-09-02T17:50:54.620026Z"
    },
    "papermill": {
     "duration": 0.033234,
     "end_time": "2021-09-02T17:55:31.716474",
     "exception": false,
     "start_time": "2021-09-02T17:55:31.683240",
     "status": "completed"
    },
    "tags": []
   },
   "outputs": [],
   "source": [
    "BATCH_SIZE = 16\n",
    "\n",
    "\n",
    "EPOCHS = 2\n",
    "\n",
    "#we will not be using metadata \n",
    "USE_META = False\n",
    "\n",
    "ADD_DENSE = False\n",
    "DENSE_DIM = 64\n",
    "\n",
    "ADD_DROPOUT = True\n",
    "DROPOUT = .2\n",
    "\n",
    "TRAIN_BASE = True"
   ]
  },
  {
   "cell_type": "code",
   "execution_count": 18,
   "id": "4bf64091",
   "metadata": {
    "execution": {
     "iopub.execute_input": "2021-09-02T17:55:31.778144Z",
     "iopub.status.busy": "2021-09-02T17:55:31.777232Z",
     "iopub.status.idle": "2021-09-02T17:55:31.780004Z",
     "shell.execute_reply": "2021-09-02T17:55:31.779570Z",
     "shell.execute_reply.started": "2021-09-02T17:50:58.787913Z"
    },
    "papermill": {
     "duration": 0.037009,
     "end_time": "2021-09-02T17:55:31.780118",
     "exception": false,
     "start_time": "2021-09-02T17:55:31.743109",
     "status": "completed"
    },
    "tags": []
   },
   "outputs": [],
   "source": [
    "def build_model(model_layer, learning_rate, use_meta = USE_META, add_dense = ADD_DENSE,\n",
    "               dense_dim = DENSE_DIM, add_dropout = ADD_DROPOUT, dropout = DROPOUT):\n",
    "    \n",
    "    \n",
    "    input_ids = tf.keras.Input(shape=(60,),dtype='int32')\n",
    "    attention_masks = tf.keras.Input(shape=(60,),dtype='int32')\n",
    "    \n",
    "    \n",
    "    \n",
    "    transformer_layer = model_layer([input_ids,attention_masks])\n",
    "    \n",
    "    \n",
    "    output = transformer_layer[1]\n",
    "    \n",
    "        \n",
    "    if add_dense:\n",
    "        print(\"Training with additional dense layer...\")\n",
    "        output = tf.keras.layers.Dense(dense_dim,activation='relu')(output)\n",
    "    \n",
    "    \n",
    "    if add_dropout:\n",
    "        print(\"Training with dropout...\")\n",
    "        output = tf.keras.layers.Dropout(dropout)(output)\n",
    "    \n",
    "    \n",
    "    output = tf.keras.layers.Dense(1,activation='sigmoid')(output)\n",
    "    \n",
    "    \n",
    "    print(\"Training without meta-data...\")\n",
    "    model = tf.keras.models.Model(inputs = [input_ids,attention_masks],outputs = output)\n",
    "\n",
    "    model.compile(tf.keras.optimizers.Adam(lr=learning_rate), loss='binary_crossentropy', metrics=['accuracy'])\n",
    "    \n",
    "    return model"
   ]
  },
  {
   "cell_type": "code",
   "execution_count": 19,
   "id": "6c9dfcca",
   "metadata": {
    "_kg_hide-output": true,
    "execution": {
     "iopub.execute_input": "2021-09-02T17:55:31.837562Z",
     "iopub.status.busy": "2021-09-02T17:55:31.836963Z",
     "iopub.status.idle": "2021-09-02T17:55:39.333953Z",
     "shell.execute_reply": "2021-09-02T17:55:39.333313Z",
     "shell.execute_reply.started": "2021-09-02T17:51:02.738021Z"
    },
    "papermill": {
     "duration": 7.52804,
     "end_time": "2021-09-02T17:55:39.334118",
     "exception": false,
     "start_time": "2021-09-02T17:55:31.806078",
     "status": "completed"
    },
    "tags": []
   },
   "outputs": [
    {
     "name": "stderr",
     "output_type": "stream",
     "text": [
      "Truncation was not explicitly activated but `max_length` is provided a specific value, please use `truncation=True` to explicitly truncate examples to max length. Defaulting to 'longest_first' truncation strategy. If you encode pairs of sequences (GLUE-style) with the tokenizer you can select this strategy more precisely by providing a specific strategy to `truncation`.\n"
     ]
    },
    {
     "name": "stdout",
     "output_type": "stream",
     "text": [
      "Encoding Tweets...\n"
     ]
    },
    {
     "name": "stderr",
     "output_type": "stream",
     "text": [
      "/opt/conda/lib/python3.7/site-packages/transformers/tokenization_utils_base.py:2110: FutureWarning: The `pad_to_max_length` argument is deprecated and will be removed in a future version, use `padding=True` or `padding='longest'` to pad to the longest sequence in the batch, or use `padding='max_length'` to pad to a max length. In this case, you can give a specific length with `max_length` (e.g. `max_length=45`) or leave max_length to None to pad to the maximal input size of the model (e.g. 512 for Bert).\n",
      "  FutureWarning,\n"
     ]
    },
    {
     "name": "stdout",
     "output_type": "stream",
     "text": [
      "Tweets encoded\n",
      "\n"
     ]
    }
   ],
   "source": [
    "print('Encoding Tweets...')\n",
    "train_input_ids,train_attention_masks = bert_encode(train,60)\n",
    "test_input_ids,test_attention_masks = bert_encode(test,60)\n",
    "print('Tweets encoded')\n",
    "print('')\n",
    "\n",
    "#print('Train length:', len(train_input_ids))\n",
    "#print('Test length:', len(test_input_ids))"
   ]
  },
  {
   "cell_type": "code",
   "execution_count": 20,
   "id": "d71a9e72",
   "metadata": {
    "execution": {
     "iopub.execute_input": "2021-09-02T17:55:39.399739Z",
     "iopub.status.busy": "2021-09-02T17:55:39.399023Z",
     "iopub.status.idle": "2021-09-02T17:55:45.581276Z",
     "shell.execute_reply": "2021-09-02T17:55:45.581704Z",
     "shell.execute_reply.started": "2021-09-02T17:51:15.150901Z"
    },
    "papermill": {
     "duration": 6.219534,
     "end_time": "2021-09-02T17:55:45.581863",
     "exception": false,
     "start_time": "2021-09-02T17:55:39.362329",
     "status": "completed"
    },
    "scrolled": true,
    "tags": []
   },
   "outputs": [
    {
     "name": "stdout",
     "output_type": "stream",
     "text": [
      "Training with dropout...\n",
      "Training without meta-data...\n",
      "Model: \"model\"\n",
      "__________________________________________________________________________________________________\n",
      "Layer (type)                    Output Shape         Param #     Connected to                     \n",
      "==================================================================================================\n",
      "input_1 (InputLayer)            [(None, 60)]         0                                            \n",
      "__________________________________________________________________________________________________\n",
      "input_2 (InputLayer)            [(None, 60)]         0                                            \n",
      "__________________________________________________________________________________________________\n",
      "tf_bert_model (TFBertModel)     TFBaseModelOutputWit 109482240   input_1[0][0]                    \n",
      "                                                                 input_2[0][0]                    \n",
      "__________________________________________________________________________________________________\n",
      "dropout_37 (Dropout)            (None, 768)          0           tf_bert_model[0][1]              \n",
      "__________________________________________________________________________________________________\n",
      "dense (Dense)                   (None, 1)            769         dropout_37[0][0]                 \n",
      "==================================================================================================\n",
      "Total params: 109,483,009\n",
      "Trainable params: 109,483,009\n",
      "Non-trainable params: 0\n",
      "__________________________________________________________________________________________________\n"
     ]
    }
   ],
   "source": [
    "BERT_base = build_model(bert_base, learning_rate = 1e-5)\n",
    "BERT_base.summary()"
   ]
  },
  {
   "cell_type": "code",
   "execution_count": 21,
   "id": "cebcb97d",
   "metadata": {
    "execution": {
     "iopub.execute_input": "2021-09-02T17:55:45.642790Z",
     "iopub.status.busy": "2021-09-02T17:55:45.641376Z",
     "iopub.status.idle": "2021-09-02T17:55:45.643729Z",
     "shell.execute_reply": "2021-09-02T17:55:45.644186Z",
     "shell.execute_reply.started": "2021-09-02T17:51:27.348292Z"
    },
    "papermill": {
     "duration": 0.034807,
     "end_time": "2021-09-02T17:55:45.644339",
     "exception": false,
     "start_time": "2021-09-02T17:55:45.609532",
     "status": "completed"
    },
    "tags": []
   },
   "outputs": [],
   "source": [
    "checkpoint = tf.keras.callbacks.ModelCheckpoint('base_model.h5', monitor='val_loss', save_best_only = True, save_weights_only = True)"
   ]
  },
  {
   "cell_type": "markdown",
   "id": "b2b87712",
   "metadata": {
    "papermill": {
     "duration": 0.0275,
     "end_time": "2021-09-02T17:55:45.698973",
     "exception": false,
     "start_time": "2021-09-02T17:55:45.671473",
     "status": "completed"
    },
    "tags": []
   },
   "source": [
    "# Train the model"
   ]
  },
  {
   "cell_type": "markdown",
   "id": "f0508d3a",
   "metadata": {
    "papermill": {
     "duration": 0.028326,
     "end_time": "2021-09-02T17:55:45.754679",
     "exception": false,
     "start_time": "2021-09-02T17:55:45.726353",
     "status": "completed"
    },
    "tags": []
   },
   "source": [
    "Finally let's train our model"
   ]
  },
  {
   "cell_type": "code",
   "execution_count": 22,
   "id": "c414f2f1",
   "metadata": {
    "execution": {
     "iopub.execute_input": "2021-09-02T17:55:45.818832Z",
     "iopub.status.busy": "2021-09-02T17:55:45.817845Z",
     "iopub.status.idle": "2021-09-02T17:58:09.283270Z",
     "shell.execute_reply": "2021-09-02T17:58:09.284018Z",
     "shell.execute_reply.started": "2021-09-02T17:51:30.424578Z"
    },
    "papermill": {
     "duration": 143.501432,
     "end_time": "2021-09-02T17:58:09.284310",
     "exception": false,
     "start_time": "2021-09-02T17:55:45.782878",
     "status": "completed"
    },
    "tags": []
   },
   "outputs": [
    {
     "name": "stdout",
     "output_type": "stream",
     "text": [
      "Epoch 1/2\n",
      "381/381 [==============================] - 80s 168ms/step - loss: 0.5307 - accuracy: 0.7404 - val_loss: 0.3918 - val_accuracy: 0.8260\n",
      "Epoch 2/2\n",
      "381/381 [==============================] - 61s 161ms/step - loss: 0.3586 - accuracy: 0.8545 - val_loss: 0.3788 - val_accuracy: 0.8411\n"
     ]
    }
   ],
   "source": [
    "history = BERT_base.fit([train_input_ids,train_attention_masks], train.target, validation_split = .2, epochs = EPOCHS, callbacks = [checkpoint], batch_size = BATCH_SIZE)"
   ]
  },
  {
   "cell_type": "markdown",
   "id": "2471020c",
   "metadata": {
    "papermill": {
     "duration": 0.222246,
     "end_time": "2021-09-02T17:58:09.732306",
     "exception": false,
     "start_time": "2021-09-02T17:58:09.510060",
     "status": "completed"
    },
    "tags": []
   },
   "source": [
    "# Predictions"
   ]
  },
  {
   "cell_type": "code",
   "execution_count": 23,
   "id": "0b7048db",
   "metadata": {
    "execution": {
     "iopub.execute_input": "2021-09-02T17:58:10.180656Z",
     "iopub.status.busy": "2021-09-02T17:58:10.179803Z",
     "iopub.status.idle": "2021-09-02T17:58:21.478772Z",
     "shell.execute_reply": "2021-09-02T17:58:21.479197Z",
     "shell.execute_reply.started": "2021-09-02T17:53:54.320501Z"
    },
    "papermill": {
     "duration": 11.524813,
     "end_time": "2021-09-02T17:58:21.479393",
     "exception": false,
     "start_time": "2021-09-02T17:58:09.954580",
     "status": "completed"
    },
    "tags": []
   },
   "outputs": [],
   "source": [
    " preds_base = BERT_base.predict([test_input_ids,test_attention_masks])"
   ]
  },
  {
   "cell_type": "code",
   "execution_count": 24,
   "id": "825a8b9b",
   "metadata": {
    "execution": {
     "iopub.execute_input": "2021-09-02T17:58:21.938667Z",
     "iopub.status.busy": "2021-09-02T17:58:21.937891Z",
     "iopub.status.idle": "2021-09-02T17:58:21.942607Z",
     "shell.execute_reply": "2021-09-02T17:58:21.943022Z",
     "shell.execute_reply.started": "2021-09-02T17:54:30.584646Z"
    },
    "papermill": {
     "duration": 0.241394,
     "end_time": "2021-09-02T17:58:21.943165",
     "exception": false,
     "start_time": "2021-09-02T17:58:21.701771",
     "status": "completed"
    },
    "tags": []
   },
   "outputs": [
    {
     "data": {
      "text/html": [
       "<div>\n",
       "<style scoped>\n",
       "    .dataframe tbody tr th:only-of-type {\n",
       "        vertical-align: middle;\n",
       "    }\n",
       "\n",
       "    .dataframe tbody tr th {\n",
       "        vertical-align: top;\n",
       "    }\n",
       "\n",
       "    .dataframe thead th {\n",
       "        text-align: right;\n",
       "    }\n",
       "</style>\n",
       "<table border=\"1\" class=\"dataframe\">\n",
       "  <thead>\n",
       "    <tr style=\"text-align: right;\">\n",
       "      <th></th>\n",
       "      <th>id</th>\n",
       "      <th>prob</th>\n",
       "      <th>target</th>\n",
       "    </tr>\n",
       "  </thead>\n",
       "  <tbody>\n",
       "    <tr>\n",
       "      <th>0</th>\n",
       "      <td>0</td>\n",
       "      <td>0.875268</td>\n",
       "      <td>1</td>\n",
       "    </tr>\n",
       "    <tr>\n",
       "      <th>1</th>\n",
       "      <td>2</td>\n",
       "      <td>0.937326</td>\n",
       "      <td>1</td>\n",
       "    </tr>\n",
       "    <tr>\n",
       "      <th>2</th>\n",
       "      <td>3</td>\n",
       "      <td>0.951625</td>\n",
       "      <td>1</td>\n",
       "    </tr>\n",
       "    <tr>\n",
       "      <th>3</th>\n",
       "      <td>9</td>\n",
       "      <td>0.976114</td>\n",
       "      <td>1</td>\n",
       "    </tr>\n",
       "    <tr>\n",
       "      <th>4</th>\n",
       "      <td>11</td>\n",
       "      <td>0.983409</td>\n",
       "      <td>1</td>\n",
       "    </tr>\n",
       "  </tbody>\n",
       "</table>\n",
       "</div>"
      ],
      "text/plain": [
       "   id      prob  target\n",
       "0   0  0.875268       1\n",
       "1   2  0.937326       1\n",
       "2   3  0.951625       1\n",
       "3   9  0.976114       1\n",
       "4  11  0.983409       1"
      ]
     },
     "execution_count": 24,
     "metadata": {},
     "output_type": "execute_result"
    }
   ],
   "source": [
    "submission = pd.DataFrame()\n",
    "submission['id'] = test_id\n",
    "submission['prob'] = preds_base\n",
    "submission['target'] = np.round(submission['prob']).astype(int)\n",
    "submission.head()"
   ]
  }
 ],
 "metadata": {
  "kernelspec": {
   "display_name": "Python 3",
   "language": "python",
   "name": "python3"
  },
  "language_info": {
   "codemirror_mode": {
    "name": "ipython",
    "version": 3
   },
   "file_extension": ".py",
   "mimetype": "text/x-python",
   "name": "python",
   "nbconvert_exporter": "python",
   "pygments_lexer": "ipython3",
   "version": "3.7.10"
  },
  "papermill": {
   "default_parameters": {},
   "duration": 214.752199,
   "end_time": "2021-09-02T17:58:25.835425",
   "environment_variables": {},
   "exception": null,
   "input_path": "__notebook__.ipynb",
   "output_path": "__notebook__.ipynb",
   "parameters": {},
   "start_time": "2021-09-02T17:54:51.083226",
   "version": "2.3.3"
  },
  "widgets": {
   "application/vnd.jupyter.widget-state+json": {
    "state": {
     "0345f613fb974baf8a2debaf198e6aa5": {
      "model_module": "@jupyter-widgets/controls",
      "model_module_version": "1.5.0",
      "model_name": "HTMLModel",
      "state": {
       "_dom_classes": [],
       "_model_module": "@jupyter-widgets/controls",
       "_model_module_version": "1.5.0",
       "_model_name": "HTMLModel",
       "_view_count": null,
       "_view_module": "@jupyter-widgets/controls",
       "_view_module_version": "1.5.0",
       "_view_name": "HTMLView",
       "description": "",
       "description_tooltip": null,
       "layout": "IPY_MODEL_42d74d37d93a47828dd371ef0b09dee3",
       "placeholder": "​",
       "style": "IPY_MODEL_0b1f9a82f95241cc9c290a9a42785eff",
       "value": "Downloading: 100%"
      }
     },
     "04409de192b74e1bba19a9864de439ba": {
      "model_module": "@jupyter-widgets/controls",
      "model_module_version": "1.5.0",
      "model_name": "HBoxModel",
      "state": {
       "_dom_classes": [],
       "_model_module": "@jupyter-widgets/controls",
       "_model_module_version": "1.5.0",
       "_model_name": "HBoxModel",
       "_view_count": null,
       "_view_module": "@jupyter-widgets/controls",
       "_view_module_version": "1.5.0",
       "_view_name": "HBoxView",
       "box_style": "",
       "children": [
        "IPY_MODEL_7eeec887459d4972b568df267e657369",
        "IPY_MODEL_23f696282df24a30babd19b1dd9cf469",
        "IPY_MODEL_d73429292c7248b4a62d0cecbe7b89a4"
       ],
       "layout": "IPY_MODEL_1721c579613c4f43ac1d141640025ff5"
      }
     },
     "0482c3a8e2d94ebba841fe75b0c212e6": {
      "model_module": "@jupyter-widgets/controls",
      "model_module_version": "1.5.0",
      "model_name": "HTMLModel",
      "state": {
       "_dom_classes": [],
       "_model_module": "@jupyter-widgets/controls",
       "_model_module_version": "1.5.0",
       "_model_name": "HTMLModel",
       "_view_count": null,
       "_view_module": "@jupyter-widgets/controls",
       "_view_module_version": "1.5.0",
       "_view_name": "HTMLView",
       "description": "",
       "description_tooltip": null,
       "layout": "IPY_MODEL_23d4d6f726c34ea09d66c70ca2c4afd5",
       "placeholder": "​",
       "style": "IPY_MODEL_0c54119e21db4db885e691d87fea5035",
       "value": "Downloading: 100%"
      }
     },
     "0b1f9a82f95241cc9c290a9a42785eff": {
      "model_module": "@jupyter-widgets/controls",
      "model_module_version": "1.5.0",
      "model_name": "DescriptionStyleModel",
      "state": {
       "_model_module": "@jupyter-widgets/controls",
       "_model_module_version": "1.5.0",
       "_model_name": "DescriptionStyleModel",
       "_view_count": null,
       "_view_module": "@jupyter-widgets/base",
       "_view_module_version": "1.2.0",
       "_view_name": "StyleView",
       "description_width": ""
      }
     },
     "0c54119e21db4db885e691d87fea5035": {
      "model_module": "@jupyter-widgets/controls",
      "model_module_version": "1.5.0",
      "model_name": "DescriptionStyleModel",
      "state": {
       "_model_module": "@jupyter-widgets/controls",
       "_model_module_version": "1.5.0",
       "_model_name": "DescriptionStyleModel",
       "_view_count": null,
       "_view_module": "@jupyter-widgets/base",
       "_view_module_version": "1.2.0",
       "_view_name": "StyleView",
       "description_width": ""
      }
     },
     "1721c579613c4f43ac1d141640025ff5": {
      "model_module": "@jupyter-widgets/base",
      "model_module_version": "1.2.0",
      "model_name": "LayoutModel",
      "state": {
       "_model_module": "@jupyter-widgets/base",
       "_model_module_version": "1.2.0",
       "_model_name": "LayoutModel",
       "_view_count": null,
       "_view_module": "@jupyter-widgets/base",
       "_view_module_version": "1.2.0",
       "_view_name": "LayoutView",
       "align_content": null,
       "align_items": null,
       "align_self": null,
       "border": null,
       "bottom": null,
       "display": null,
       "flex": null,
       "flex_flow": null,
       "grid_area": null,
       "grid_auto_columns": null,
       "grid_auto_flow": null,
       "grid_auto_rows": null,
       "grid_column": null,
       "grid_gap": null,
       "grid_row": null,
       "grid_template_areas": null,
       "grid_template_columns": null,
       "grid_template_rows": null,
       "height": null,
       "justify_content": null,
       "justify_items": null,
       "left": null,
       "margin": null,
       "max_height": null,
       "max_width": null,
       "min_height": null,
       "min_width": null,
       "object_fit": null,
       "object_position": null,
       "order": null,
       "overflow": null,
       "overflow_x": null,
       "overflow_y": null,
       "padding": null,
       "right": null,
       "top": null,
       "visibility": null,
       "width": null
      }
     },
     "1982a95385fc4c0b8a6f0bd202b66d66": {
      "model_module": "@jupyter-widgets/base",
      "model_module_version": "1.2.0",
      "model_name": "LayoutModel",
      "state": {
       "_model_module": "@jupyter-widgets/base",
       "_model_module_version": "1.2.0",
       "_model_name": "LayoutModel",
       "_view_count": null,
       "_view_module": "@jupyter-widgets/base",
       "_view_module_version": "1.2.0",
       "_view_name": "LayoutView",
       "align_content": null,
       "align_items": null,
       "align_self": null,
       "border": null,
       "bottom": null,
       "display": null,
       "flex": null,
       "flex_flow": null,
       "grid_area": null,
       "grid_auto_columns": null,
       "grid_auto_flow": null,
       "grid_auto_rows": null,
       "grid_column": null,
       "grid_gap": null,
       "grid_row": null,
       "grid_template_areas": null,
       "grid_template_columns": null,
       "grid_template_rows": null,
       "height": null,
       "justify_content": null,
       "justify_items": null,
       "left": null,
       "margin": null,
       "max_height": null,
       "max_width": null,
       "min_height": null,
       "min_width": null,
       "object_fit": null,
       "object_position": null,
       "order": null,
       "overflow": null,
       "overflow_x": null,
       "overflow_y": null,
       "padding": null,
       "right": null,
       "top": null,
       "visibility": null,
       "width": null
      }
     },
     "1b4b6045a9b04c8382e1f2dcd90d8163": {
      "model_module": "@jupyter-widgets/base",
      "model_module_version": "1.2.0",
      "model_name": "LayoutModel",
      "state": {
       "_model_module": "@jupyter-widgets/base",
       "_model_module_version": "1.2.0",
       "_model_name": "LayoutModel",
       "_view_count": null,
       "_view_module": "@jupyter-widgets/base",
       "_view_module_version": "1.2.0",
       "_view_name": "LayoutView",
       "align_content": null,
       "align_items": null,
       "align_self": null,
       "border": null,
       "bottom": null,
       "display": null,
       "flex": null,
       "flex_flow": null,
       "grid_area": null,
       "grid_auto_columns": null,
       "grid_auto_flow": null,
       "grid_auto_rows": null,
       "grid_column": null,
       "grid_gap": null,
       "grid_row": null,
       "grid_template_areas": null,
       "grid_template_columns": null,
       "grid_template_rows": null,
       "height": null,
       "justify_content": null,
       "justify_items": null,
       "left": null,
       "margin": null,
       "max_height": null,
       "max_width": null,
       "min_height": null,
       "min_width": null,
       "object_fit": null,
       "object_position": null,
       "order": null,
       "overflow": null,
       "overflow_x": null,
       "overflow_y": null,
       "padding": null,
       "right": null,
       "top": null,
       "visibility": null,
       "width": null
      }
     },
     "1b7fcd72995c41438e728fda6c428b3f": {
      "model_module": "@jupyter-widgets/controls",
      "model_module_version": "1.5.0",
      "model_name": "DescriptionStyleModel",
      "state": {
       "_model_module": "@jupyter-widgets/controls",
       "_model_module_version": "1.5.0",
       "_model_name": "DescriptionStyleModel",
       "_view_count": null,
       "_view_module": "@jupyter-widgets/base",
       "_view_module_version": "1.2.0",
       "_view_name": "StyleView",
       "description_width": ""
      }
     },
     "23d4d6f726c34ea09d66c70ca2c4afd5": {
      "model_module": "@jupyter-widgets/base",
      "model_module_version": "1.2.0",
      "model_name": "LayoutModel",
      "state": {
       "_model_module": "@jupyter-widgets/base",
       "_model_module_version": "1.2.0",
       "_model_name": "LayoutModel",
       "_view_count": null,
       "_view_module": "@jupyter-widgets/base",
       "_view_module_version": "1.2.0",
       "_view_name": "LayoutView",
       "align_content": null,
       "align_items": null,
       "align_self": null,
       "border": null,
       "bottom": null,
       "display": null,
       "flex": null,
       "flex_flow": null,
       "grid_area": null,
       "grid_auto_columns": null,
       "grid_auto_flow": null,
       "grid_auto_rows": null,
       "grid_column": null,
       "grid_gap": null,
       "grid_row": null,
       "grid_template_areas": null,
       "grid_template_columns": null,
       "grid_template_rows": null,
       "height": null,
       "justify_content": null,
       "justify_items": null,
       "left": null,
       "margin": null,
       "max_height": null,
       "max_width": null,
       "min_height": null,
       "min_width": null,
       "object_fit": null,
       "object_position": null,
       "order": null,
       "overflow": null,
       "overflow_x": null,
       "overflow_y": null,
       "padding": null,
       "right": null,
       "top": null,
       "visibility": null,
       "width": null
      }
     },
     "23f696282df24a30babd19b1dd9cf469": {
      "model_module": "@jupyter-widgets/controls",
      "model_module_version": "1.5.0",
      "model_name": "FloatProgressModel",
      "state": {
       "_dom_classes": [],
       "_model_module": "@jupyter-widgets/controls",
       "_model_module_version": "1.5.0",
       "_model_name": "FloatProgressModel",
       "_view_count": null,
       "_view_module": "@jupyter-widgets/controls",
       "_view_module_version": "1.5.0",
       "_view_name": "ProgressView",
       "bar_style": "success",
       "description": "",
       "description_tooltip": null,
       "layout": "IPY_MODEL_458472a27000490f88cc41617805e90f",
       "max": 466062,
       "min": 0,
       "orientation": "horizontal",
       "style": "IPY_MODEL_9cd34cfcf10b47498a184a7db2e53958",
       "value": 466062
      }
     },
     "254acaa69c064fa78a820b35d9089361": {
      "model_module": "@jupyter-widgets/base",
      "model_module_version": "1.2.0",
      "model_name": "LayoutModel",
      "state": {
       "_model_module": "@jupyter-widgets/base",
       "_model_module_version": "1.2.0",
       "_model_name": "LayoutModel",
       "_view_count": null,
       "_view_module": "@jupyter-widgets/base",
       "_view_module_version": "1.2.0",
       "_view_name": "LayoutView",
       "align_content": null,
       "align_items": null,
       "align_self": null,
       "border": null,
       "bottom": null,
       "display": null,
       "flex": null,
       "flex_flow": null,
       "grid_area": null,
       "grid_auto_columns": null,
       "grid_auto_flow": null,
       "grid_auto_rows": null,
       "grid_column": null,
       "grid_gap": null,
       "grid_row": null,
       "grid_template_areas": null,
       "grid_template_columns": null,
       "grid_template_rows": null,
       "height": null,
       "justify_content": null,
       "justify_items": null,
       "left": null,
       "margin": null,
       "max_height": null,
       "max_width": null,
       "min_height": null,
       "min_width": null,
       "object_fit": null,
       "object_position": null,
       "order": null,
       "overflow": null,
       "overflow_x": null,
       "overflow_y": null,
       "padding": null,
       "right": null,
       "top": null,
       "visibility": null,
       "width": null
      }
     },
     "257d4afbfc434e5b8d4844fb2242ab9e": {
      "model_module": "@jupyter-widgets/base",
      "model_module_version": "1.2.0",
      "model_name": "LayoutModel",
      "state": {
       "_model_module": "@jupyter-widgets/base",
       "_model_module_version": "1.2.0",
       "_model_name": "LayoutModel",
       "_view_count": null,
       "_view_module": "@jupyter-widgets/base",
       "_view_module_version": "1.2.0",
       "_view_name": "LayoutView",
       "align_content": null,
       "align_items": null,
       "align_self": null,
       "border": null,
       "bottom": null,
       "display": null,
       "flex": null,
       "flex_flow": null,
       "grid_area": null,
       "grid_auto_columns": null,
       "grid_auto_flow": null,
       "grid_auto_rows": null,
       "grid_column": null,
       "grid_gap": null,
       "grid_row": null,
       "grid_template_areas": null,
       "grid_template_columns": null,
       "grid_template_rows": null,
       "height": null,
       "justify_content": null,
       "justify_items": null,
       "left": null,
       "margin": null,
       "max_height": null,
       "max_width": null,
       "min_height": null,
       "min_width": null,
       "object_fit": null,
       "object_position": null,
       "order": null,
       "overflow": null,
       "overflow_x": null,
       "overflow_y": null,
       "padding": null,
       "right": null,
       "top": null,
       "visibility": null,
       "width": null
      }
     },
     "2ad9234ec64b42949e62e9ceb9e59673": {
      "model_module": "@jupyter-widgets/controls",
      "model_module_version": "1.5.0",
      "model_name": "ProgressStyleModel",
      "state": {
       "_model_module": "@jupyter-widgets/controls",
       "_model_module_version": "1.5.0",
       "_model_name": "ProgressStyleModel",
       "_view_count": null,
       "_view_module": "@jupyter-widgets/base",
       "_view_module_version": "1.2.0",
       "_view_name": "StyleView",
       "bar_color": null,
       "description_width": ""
      }
     },
     "2d6d376693934431b237113a93d9c160": {
      "model_module": "@jupyter-widgets/controls",
      "model_module_version": "1.5.0",
      "model_name": "DescriptionStyleModel",
      "state": {
       "_model_module": "@jupyter-widgets/controls",
       "_model_module_version": "1.5.0",
       "_model_name": "DescriptionStyleModel",
       "_view_count": null,
       "_view_module": "@jupyter-widgets/base",
       "_view_module_version": "1.2.0",
       "_view_name": "StyleView",
       "description_width": ""
      }
     },
     "42d74d37d93a47828dd371ef0b09dee3": {
      "model_module": "@jupyter-widgets/base",
      "model_module_version": "1.2.0",
      "model_name": "LayoutModel",
      "state": {
       "_model_module": "@jupyter-widgets/base",
       "_model_module_version": "1.2.0",
       "_model_name": "LayoutModel",
       "_view_count": null,
       "_view_module": "@jupyter-widgets/base",
       "_view_module_version": "1.2.0",
       "_view_name": "LayoutView",
       "align_content": null,
       "align_items": null,
       "align_self": null,
       "border": null,
       "bottom": null,
       "display": null,
       "flex": null,
       "flex_flow": null,
       "grid_area": null,
       "grid_auto_columns": null,
       "grid_auto_flow": null,
       "grid_auto_rows": null,
       "grid_column": null,
       "grid_gap": null,
       "grid_row": null,
       "grid_template_areas": null,
       "grid_template_columns": null,
       "grid_template_rows": null,
       "height": null,
       "justify_content": null,
       "justify_items": null,
       "left": null,
       "margin": null,
       "max_height": null,
       "max_width": null,
       "min_height": null,
       "min_width": null,
       "object_fit": null,
       "object_position": null,
       "order": null,
       "overflow": null,
       "overflow_x": null,
       "overflow_y": null,
       "padding": null,
       "right": null,
       "top": null,
       "visibility": null,
       "width": null
      }
     },
     "458472a27000490f88cc41617805e90f": {
      "model_module": "@jupyter-widgets/base",
      "model_module_version": "1.2.0",
      "model_name": "LayoutModel",
      "state": {
       "_model_module": "@jupyter-widgets/base",
       "_model_module_version": "1.2.0",
       "_model_name": "LayoutModel",
       "_view_count": null,
       "_view_module": "@jupyter-widgets/base",
       "_view_module_version": "1.2.0",
       "_view_name": "LayoutView",
       "align_content": null,
       "align_items": null,
       "align_self": null,
       "border": null,
       "bottom": null,
       "display": null,
       "flex": null,
       "flex_flow": null,
       "grid_area": null,
       "grid_auto_columns": null,
       "grid_auto_flow": null,
       "grid_auto_rows": null,
       "grid_column": null,
       "grid_gap": null,
       "grid_row": null,
       "grid_template_areas": null,
       "grid_template_columns": null,
       "grid_template_rows": null,
       "height": null,
       "justify_content": null,
       "justify_items": null,
       "left": null,
       "margin": null,
       "max_height": null,
       "max_width": null,
       "min_height": null,
       "min_width": null,
       "object_fit": null,
       "object_position": null,
       "order": null,
       "overflow": null,
       "overflow_x": null,
       "overflow_y": null,
       "padding": null,
       "right": null,
       "top": null,
       "visibility": null,
       "width": null
      }
     },
     "45ebc28a10364b15aac0fd4f92215f5c": {
      "model_module": "@jupyter-widgets/base",
      "model_module_version": "1.2.0",
      "model_name": "LayoutModel",
      "state": {
       "_model_module": "@jupyter-widgets/base",
       "_model_module_version": "1.2.0",
       "_model_name": "LayoutModel",
       "_view_count": null,
       "_view_module": "@jupyter-widgets/base",
       "_view_module_version": "1.2.0",
       "_view_name": "LayoutView",
       "align_content": null,
       "align_items": null,
       "align_self": null,
       "border": null,
       "bottom": null,
       "display": null,
       "flex": null,
       "flex_flow": null,
       "grid_area": null,
       "grid_auto_columns": null,
       "grid_auto_flow": null,
       "grid_auto_rows": null,
       "grid_column": null,
       "grid_gap": null,
       "grid_row": null,
       "grid_template_areas": null,
       "grid_template_columns": null,
       "grid_template_rows": null,
       "height": null,
       "justify_content": null,
       "justify_items": null,
       "left": null,
       "margin": null,
       "max_height": null,
       "max_width": null,
       "min_height": null,
       "min_width": null,
       "object_fit": null,
       "object_position": null,
       "order": null,
       "overflow": null,
       "overflow_x": null,
       "overflow_y": null,
       "padding": null,
       "right": null,
       "top": null,
       "visibility": null,
       "width": null
      }
     },
     "4f2110aaba0044a7bda7ed3cf9a8db8e": {
      "model_module": "@jupyter-widgets/controls",
      "model_module_version": "1.5.0",
      "model_name": "HBoxModel",
      "state": {
       "_dom_classes": [],
       "_model_module": "@jupyter-widgets/controls",
       "_model_module_version": "1.5.0",
       "_model_name": "HBoxModel",
       "_view_count": null,
       "_view_module": "@jupyter-widgets/controls",
       "_view_module_version": "1.5.0",
       "_view_name": "HBoxView",
       "box_style": "",
       "children": [
        "IPY_MODEL_0482c3a8e2d94ebba841fe75b0c212e6",
        "IPY_MODEL_ec7548e10fc34f17bf74c39fa3940b2c",
        "IPY_MODEL_7a121d153914420c8c71f79604808c7b"
       ],
       "layout": "IPY_MODEL_257d4afbfc434e5b8d4844fb2242ab9e"
      }
     },
     "667169b5bbc2483694e758b0fe54c533": {
      "model_module": "@jupyter-widgets/controls",
      "model_module_version": "1.5.0",
      "model_name": "HTMLModel",
      "state": {
       "_dom_classes": [],
       "_model_module": "@jupyter-widgets/controls",
       "_model_module_version": "1.5.0",
       "_model_name": "HTMLModel",
       "_view_count": null,
       "_view_module": "@jupyter-widgets/controls",
       "_view_module_version": "1.5.0",
       "_view_name": "HTMLView",
       "description": "",
       "description_tooltip": null,
       "layout": "IPY_MODEL_6b0542c6ea15401683db295c0f0b22f7",
       "placeholder": "​",
       "style": "IPY_MODEL_2d6d376693934431b237113a93d9c160",
       "value": "Downloading: 100%"
      }
     },
     "6b0542c6ea15401683db295c0f0b22f7": {
      "model_module": "@jupyter-widgets/base",
      "model_module_version": "1.2.0",
      "model_name": "LayoutModel",
      "state": {
       "_model_module": "@jupyter-widgets/base",
       "_model_module_version": "1.2.0",
       "_model_name": "LayoutModel",
       "_view_count": null,
       "_view_module": "@jupyter-widgets/base",
       "_view_module_version": "1.2.0",
       "_view_name": "LayoutView",
       "align_content": null,
       "align_items": null,
       "align_self": null,
       "border": null,
       "bottom": null,
       "display": null,
       "flex": null,
       "flex_flow": null,
       "grid_area": null,
       "grid_auto_columns": null,
       "grid_auto_flow": null,
       "grid_auto_rows": null,
       "grid_column": null,
       "grid_gap": null,
       "grid_row": null,
       "grid_template_areas": null,
       "grid_template_columns": null,
       "grid_template_rows": null,
       "height": null,
       "justify_content": null,
       "justify_items": null,
       "left": null,
       "margin": null,
       "max_height": null,
       "max_width": null,
       "min_height": null,
       "min_width": null,
       "object_fit": null,
       "object_position": null,
       "order": null,
       "overflow": null,
       "overflow_x": null,
       "overflow_y": null,
       "padding": null,
       "right": null,
       "top": null,
       "visibility": null,
       "width": null
      }
     },
     "6c855d23a6984a9fb1c2f571c151857c": {
      "model_module": "@jupyter-widgets/base",
      "model_module_version": "1.2.0",
      "model_name": "LayoutModel",
      "state": {
       "_model_module": "@jupyter-widgets/base",
       "_model_module_version": "1.2.0",
       "_model_name": "LayoutModel",
       "_view_count": null,
       "_view_module": "@jupyter-widgets/base",
       "_view_module_version": "1.2.0",
       "_view_name": "LayoutView",
       "align_content": null,
       "align_items": null,
       "align_self": null,
       "border": null,
       "bottom": null,
       "display": null,
       "flex": null,
       "flex_flow": null,
       "grid_area": null,
       "grid_auto_columns": null,
       "grid_auto_flow": null,
       "grid_auto_rows": null,
       "grid_column": null,
       "grid_gap": null,
       "grid_row": null,
       "grid_template_areas": null,
       "grid_template_columns": null,
       "grid_template_rows": null,
       "height": null,
       "justify_content": null,
       "justify_items": null,
       "left": null,
       "margin": null,
       "max_height": null,
       "max_width": null,
       "min_height": null,
       "min_width": null,
       "object_fit": null,
       "object_position": null,
       "order": null,
       "overflow": null,
       "overflow_x": null,
       "overflow_y": null,
       "padding": null,
       "right": null,
       "top": null,
       "visibility": null,
       "width": null
      }
     },
     "70e1a23403cb4105b882c76455ebfa46": {
      "model_module": "@jupyter-widgets/base",
      "model_module_version": "1.2.0",
      "model_name": "LayoutModel",
      "state": {
       "_model_module": "@jupyter-widgets/base",
       "_model_module_version": "1.2.0",
       "_model_name": "LayoutModel",
       "_view_count": null,
       "_view_module": "@jupyter-widgets/base",
       "_view_module_version": "1.2.0",
       "_view_name": "LayoutView",
       "align_content": null,
       "align_items": null,
       "align_self": null,
       "border": null,
       "bottom": null,
       "display": null,
       "flex": null,
       "flex_flow": null,
       "grid_area": null,
       "grid_auto_columns": null,
       "grid_auto_flow": null,
       "grid_auto_rows": null,
       "grid_column": null,
       "grid_gap": null,
       "grid_row": null,
       "grid_template_areas": null,
       "grid_template_columns": null,
       "grid_template_rows": null,
       "height": null,
       "justify_content": null,
       "justify_items": null,
       "left": null,
       "margin": null,
       "max_height": null,
       "max_width": null,
       "min_height": null,
       "min_width": null,
       "object_fit": null,
       "object_position": null,
       "order": null,
       "overflow": null,
       "overflow_x": null,
       "overflow_y": null,
       "padding": null,
       "right": null,
       "top": null,
       "visibility": null,
       "width": null
      }
     },
     "71f909f1d1ad47eb9d7bbc28fcd70b41": {
      "model_module": "@jupyter-widgets/base",
      "model_module_version": "1.2.0",
      "model_name": "LayoutModel",
      "state": {
       "_model_module": "@jupyter-widgets/base",
       "_model_module_version": "1.2.0",
       "_model_name": "LayoutModel",
       "_view_count": null,
       "_view_module": "@jupyter-widgets/base",
       "_view_module_version": "1.2.0",
       "_view_name": "LayoutView",
       "align_content": null,
       "align_items": null,
       "align_self": null,
       "border": null,
       "bottom": null,
       "display": null,
       "flex": null,
       "flex_flow": null,
       "grid_area": null,
       "grid_auto_columns": null,
       "grid_auto_flow": null,
       "grid_auto_rows": null,
       "grid_column": null,
       "grid_gap": null,
       "grid_row": null,
       "grid_template_areas": null,
       "grid_template_columns": null,
       "grid_template_rows": null,
       "height": null,
       "justify_content": null,
       "justify_items": null,
       "left": null,
       "margin": null,
       "max_height": null,
       "max_width": null,
       "min_height": null,
       "min_width": null,
       "object_fit": null,
       "object_position": null,
       "order": null,
       "overflow": null,
       "overflow_x": null,
       "overflow_y": null,
       "padding": null,
       "right": null,
       "top": null,
       "visibility": null,
       "width": null
      }
     },
     "7a121d153914420c8c71f79604808c7b": {
      "model_module": "@jupyter-widgets/controls",
      "model_module_version": "1.5.0",
      "model_name": "HTMLModel",
      "state": {
       "_dom_classes": [],
       "_model_module": "@jupyter-widgets/controls",
       "_model_module_version": "1.5.0",
       "_model_name": "HTMLModel",
       "_view_count": null,
       "_view_module": "@jupyter-widgets/controls",
       "_view_module_version": "1.5.0",
       "_view_name": "HTMLView",
       "description": "",
       "description_tooltip": null,
       "layout": "IPY_MODEL_71f909f1d1ad47eb9d7bbc28fcd70b41",
       "placeholder": "​",
       "style": "IPY_MODEL_1b7fcd72995c41438e728fda6c428b3f",
       "value": " 536M/536M [00:12&lt;00:00, 38.8MB/s]"
      }
     },
     "7a663351f28e4144a7fe9a04ec028a09": {
      "model_module": "@jupyter-widgets/controls",
      "model_module_version": "1.5.0",
      "model_name": "FloatProgressModel",
      "state": {
       "_dom_classes": [],
       "_model_module": "@jupyter-widgets/controls",
       "_model_module_version": "1.5.0",
       "_model_name": "FloatProgressModel",
       "_view_count": null,
       "_view_module": "@jupyter-widgets/controls",
       "_view_module_version": "1.5.0",
       "_view_name": "ProgressView",
       "bar_style": "success",
       "description": "",
       "description_tooltip": null,
       "layout": "IPY_MODEL_1982a95385fc4c0b8a6f0bd202b66d66",
       "max": 231508,
       "min": 0,
       "orientation": "horizontal",
       "style": "IPY_MODEL_832d4ccecaff4fcdb1a19e1bc09ddfff",
       "value": 231508
      }
     },
     "7c8f33069fbb4aa7a611645f2c820b3e": {
      "model_module": "@jupyter-widgets/controls",
      "model_module_version": "1.5.0",
      "model_name": "DescriptionStyleModel",
      "state": {
       "_model_module": "@jupyter-widgets/controls",
       "_model_module_version": "1.5.0",
       "_model_name": "DescriptionStyleModel",
       "_view_count": null,
       "_view_module": "@jupyter-widgets/base",
       "_view_module_version": "1.2.0",
       "_view_name": "StyleView",
       "description_width": ""
      }
     },
     "7eeec887459d4972b568df267e657369": {
      "model_module": "@jupyter-widgets/controls",
      "model_module_version": "1.5.0",
      "model_name": "HTMLModel",
      "state": {
       "_dom_classes": [],
       "_model_module": "@jupyter-widgets/controls",
       "_model_module_version": "1.5.0",
       "_model_name": "HTMLModel",
       "_view_count": null,
       "_view_module": "@jupyter-widgets/controls",
       "_view_module_version": "1.5.0",
       "_view_name": "HTMLView",
       "description": "",
       "description_tooltip": null,
       "layout": "IPY_MODEL_a4811e146dd44bc9b0bf9a0c17202ddd",
       "placeholder": "​",
       "style": "IPY_MODEL_fe4a4d301a48425f801302a3604ca2c6",
       "value": "Downloading: 100%"
      }
     },
     "832d4ccecaff4fcdb1a19e1bc09ddfff": {
      "model_module": "@jupyter-widgets/controls",
      "model_module_version": "1.5.0",
      "model_name": "ProgressStyleModel",
      "state": {
       "_model_module": "@jupyter-widgets/controls",
       "_model_module_version": "1.5.0",
       "_model_name": "ProgressStyleModel",
       "_view_count": null,
       "_view_module": "@jupyter-widgets/base",
       "_view_module_version": "1.2.0",
       "_view_name": "StyleView",
       "bar_color": null,
       "description_width": ""
      }
     },
     "879f5a9f36934024bb5ad15b2fc92401": {
      "model_module": "@jupyter-widgets/base",
      "model_module_version": "1.2.0",
      "model_name": "LayoutModel",
      "state": {
       "_model_module": "@jupyter-widgets/base",
       "_model_module_version": "1.2.0",
       "_model_name": "LayoutModel",
       "_view_count": null,
       "_view_module": "@jupyter-widgets/base",
       "_view_module_version": "1.2.0",
       "_view_name": "LayoutView",
       "align_content": null,
       "align_items": null,
       "align_self": null,
       "border": null,
       "bottom": null,
       "display": null,
       "flex": null,
       "flex_flow": null,
       "grid_area": null,
       "grid_auto_columns": null,
       "grid_auto_flow": null,
       "grid_auto_rows": null,
       "grid_column": null,
       "grid_gap": null,
       "grid_row": null,
       "grid_template_areas": null,
       "grid_template_columns": null,
       "grid_template_rows": null,
       "height": null,
       "justify_content": null,
       "justify_items": null,
       "left": null,
       "margin": null,
       "max_height": null,
       "max_width": null,
       "min_height": null,
       "min_width": null,
       "object_fit": null,
       "object_position": null,
       "order": null,
       "overflow": null,
       "overflow_x": null,
       "overflow_y": null,
       "padding": null,
       "right": null,
       "top": null,
       "visibility": null,
       "width": null
      }
     },
     "93c8db1fc835438faffb09fdf0c07fe0": {
      "model_module": "@jupyter-widgets/controls",
      "model_module_version": "1.5.0",
      "model_name": "HTMLModel",
      "state": {
       "_dom_classes": [],
       "_model_module": "@jupyter-widgets/controls",
       "_model_module_version": "1.5.0",
       "_model_name": "HTMLModel",
       "_view_count": null,
       "_view_module": "@jupyter-widgets/controls",
       "_view_module_version": "1.5.0",
       "_view_name": "HTMLView",
       "description": "",
       "description_tooltip": null,
       "layout": "IPY_MODEL_a5677d27f76640f0afa2f4109f857cf0",
       "placeholder": "​",
       "style": "IPY_MODEL_c3aa26e1fed7489fa440af8b074f6a88",
       "value": " 570/570 [00:00&lt;00:00, 19.6kB/s]"
      }
     },
     "94bdb673c79f431ca51df32df241d95b": {
      "model_module": "@jupyter-widgets/controls",
      "model_module_version": "1.5.0",
      "model_name": "HBoxModel",
      "state": {
       "_dom_classes": [],
       "_model_module": "@jupyter-widgets/controls",
       "_model_module_version": "1.5.0",
       "_model_name": "HBoxModel",
       "_view_count": null,
       "_view_module": "@jupyter-widgets/controls",
       "_view_module_version": "1.5.0",
       "_view_name": "HBoxView",
       "box_style": "",
       "children": [
        "IPY_MODEL_f00c275d756b4928bf08b3ce0047c536",
        "IPY_MODEL_7a663351f28e4144a7fe9a04ec028a09",
        "IPY_MODEL_b54098f9464e4a678db0a54159a6965f"
       ],
       "layout": "IPY_MODEL_254acaa69c064fa78a820b35d9089361"
      }
     },
     "95e60c963b2245c0bbf918f743b7fc51": {
      "model_module": "@jupyter-widgets/controls",
      "model_module_version": "1.5.0",
      "model_name": "FloatProgressModel",
      "state": {
       "_dom_classes": [],
       "_model_module": "@jupyter-widgets/controls",
       "_model_module_version": "1.5.0",
       "_model_name": "FloatProgressModel",
       "_view_count": null,
       "_view_module": "@jupyter-widgets/controls",
       "_view_module_version": "1.5.0",
       "_view_name": "ProgressView",
       "bar_style": "success",
       "description": "",
       "description_tooltip": null,
       "layout": "IPY_MODEL_a9448307581c4b36bc44be8e4b2ef7be",
       "max": 570,
       "min": 0,
       "orientation": "horizontal",
       "style": "IPY_MODEL_2ad9234ec64b42949e62e9ceb9e59673",
       "value": 570
      }
     },
     "9cd34cfcf10b47498a184a7db2e53958": {
      "model_module": "@jupyter-widgets/controls",
      "model_module_version": "1.5.0",
      "model_name": "ProgressStyleModel",
      "state": {
       "_model_module": "@jupyter-widgets/controls",
       "_model_module_version": "1.5.0",
       "_model_name": "ProgressStyleModel",
       "_view_count": null,
       "_view_module": "@jupyter-widgets/base",
       "_view_module_version": "1.2.0",
       "_view_name": "StyleView",
       "bar_color": null,
       "description_width": ""
      }
     },
     "a4811e146dd44bc9b0bf9a0c17202ddd": {
      "model_module": "@jupyter-widgets/base",
      "model_module_version": "1.2.0",
      "model_name": "LayoutModel",
      "state": {
       "_model_module": "@jupyter-widgets/base",
       "_model_module_version": "1.2.0",
       "_model_name": "LayoutModel",
       "_view_count": null,
       "_view_module": "@jupyter-widgets/base",
       "_view_module_version": "1.2.0",
       "_view_name": "LayoutView",
       "align_content": null,
       "align_items": null,
       "align_self": null,
       "border": null,
       "bottom": null,
       "display": null,
       "flex": null,
       "flex_flow": null,
       "grid_area": null,
       "grid_auto_columns": null,
       "grid_auto_flow": null,
       "grid_auto_rows": null,
       "grid_column": null,
       "grid_gap": null,
       "grid_row": null,
       "grid_template_areas": null,
       "grid_template_columns": null,
       "grid_template_rows": null,
       "height": null,
       "justify_content": null,
       "justify_items": null,
       "left": null,
       "margin": null,
       "max_height": null,
       "max_width": null,
       "min_height": null,
       "min_width": null,
       "object_fit": null,
       "object_position": null,
       "order": null,
       "overflow": null,
       "overflow_x": null,
       "overflow_y": null,
       "padding": null,
       "right": null,
       "top": null,
       "visibility": null,
       "width": null
      }
     },
     "a5677d27f76640f0afa2f4109f857cf0": {
      "model_module": "@jupyter-widgets/base",
      "model_module_version": "1.2.0",
      "model_name": "LayoutModel",
      "state": {
       "_model_module": "@jupyter-widgets/base",
       "_model_module_version": "1.2.0",
       "_model_name": "LayoutModel",
       "_view_count": null,
       "_view_module": "@jupyter-widgets/base",
       "_view_module_version": "1.2.0",
       "_view_name": "LayoutView",
       "align_content": null,
       "align_items": null,
       "align_self": null,
       "border": null,
       "bottom": null,
       "display": null,
       "flex": null,
       "flex_flow": null,
       "grid_area": null,
       "grid_auto_columns": null,
       "grid_auto_flow": null,
       "grid_auto_rows": null,
       "grid_column": null,
       "grid_gap": null,
       "grid_row": null,
       "grid_template_areas": null,
       "grid_template_columns": null,
       "grid_template_rows": null,
       "height": null,
       "justify_content": null,
       "justify_items": null,
       "left": null,
       "margin": null,
       "max_height": null,
       "max_width": null,
       "min_height": null,
       "min_width": null,
       "object_fit": null,
       "object_position": null,
       "order": null,
       "overflow": null,
       "overflow_x": null,
       "overflow_y": null,
       "padding": null,
       "right": null,
       "top": null,
       "visibility": null,
       "width": null
      }
     },
     "a9448307581c4b36bc44be8e4b2ef7be": {
      "model_module": "@jupyter-widgets/base",
      "model_module_version": "1.2.0",
      "model_name": "LayoutModel",
      "state": {
       "_model_module": "@jupyter-widgets/base",
       "_model_module_version": "1.2.0",
       "_model_name": "LayoutModel",
       "_view_count": null,
       "_view_module": "@jupyter-widgets/base",
       "_view_module_version": "1.2.0",
       "_view_name": "LayoutView",
       "align_content": null,
       "align_items": null,
       "align_self": null,
       "border": null,
       "bottom": null,
       "display": null,
       "flex": null,
       "flex_flow": null,
       "grid_area": null,
       "grid_auto_columns": null,
       "grid_auto_flow": null,
       "grid_auto_rows": null,
       "grid_column": null,
       "grid_gap": null,
       "grid_row": null,
       "grid_template_areas": null,
       "grid_template_columns": null,
       "grid_template_rows": null,
       "height": null,
       "justify_content": null,
       "justify_items": null,
       "left": null,
       "margin": null,
       "max_height": null,
       "max_width": null,
       "min_height": null,
       "min_width": null,
       "object_fit": null,
       "object_position": null,
       "order": null,
       "overflow": null,
       "overflow_x": null,
       "overflow_y": null,
       "padding": null,
       "right": null,
       "top": null,
       "visibility": null,
       "width": null
      }
     },
     "a96682a25baa47ad868c74eacb411197": {
      "model_module": "@jupyter-widgets/controls",
      "model_module_version": "1.5.0",
      "model_name": "ProgressStyleModel",
      "state": {
       "_model_module": "@jupyter-widgets/controls",
       "_model_module_version": "1.5.0",
       "_model_name": "ProgressStyleModel",
       "_view_count": null,
       "_view_module": "@jupyter-widgets/base",
       "_view_module_version": "1.2.0",
       "_view_name": "StyleView",
       "bar_color": null,
       "description_width": ""
      }
     },
     "b0e5911c46f743738860f34248d1ebdf": {
      "model_module": "@jupyter-widgets/controls",
      "model_module_version": "1.5.0",
      "model_name": "HTMLModel",
      "state": {
       "_dom_classes": [],
       "_model_module": "@jupyter-widgets/controls",
       "_model_module_version": "1.5.0",
       "_model_name": "HTMLModel",
       "_view_count": null,
       "_view_module": "@jupyter-widgets/controls",
       "_view_module_version": "1.5.0",
       "_view_name": "HTMLView",
       "description": "",
       "description_tooltip": null,
       "layout": "IPY_MODEL_fd21f483d9ac4e6a93aade8a2b61223b",
       "placeholder": "​",
       "style": "IPY_MODEL_7c8f33069fbb4aa7a611645f2c820b3e",
       "value": " 28.0/28.0 [00:00&lt;00:00, 962B/s]"
      }
     },
     "b4a2d65f7216464f82d3824cd5c3d26e": {
      "model_module": "@jupyter-widgets/controls",
      "model_module_version": "1.5.0",
      "model_name": "HBoxModel",
      "state": {
       "_dom_classes": [],
       "_model_module": "@jupyter-widgets/controls",
       "_model_module_version": "1.5.0",
       "_model_name": "HBoxModel",
       "_view_count": null,
       "_view_module": "@jupyter-widgets/controls",
       "_view_module_version": "1.5.0",
       "_view_name": "HBoxView",
       "box_style": "",
       "children": [
        "IPY_MODEL_667169b5bbc2483694e758b0fe54c533",
        "IPY_MODEL_95e60c963b2245c0bbf918f743b7fc51",
        "IPY_MODEL_93c8db1fc835438faffb09fdf0c07fe0"
       ],
       "layout": "IPY_MODEL_1b4b6045a9b04c8382e1f2dcd90d8163"
      }
     },
     "b54098f9464e4a678db0a54159a6965f": {
      "model_module": "@jupyter-widgets/controls",
      "model_module_version": "1.5.0",
      "model_name": "HTMLModel",
      "state": {
       "_dom_classes": [],
       "_model_module": "@jupyter-widgets/controls",
       "_model_module_version": "1.5.0",
       "_model_name": "HTMLModel",
       "_view_count": null,
       "_view_module": "@jupyter-widgets/controls",
       "_view_module_version": "1.5.0",
       "_view_name": "HTMLView",
       "description": "",
       "description_tooltip": null,
       "layout": "IPY_MODEL_70e1a23403cb4105b882c76455ebfa46",
       "placeholder": "​",
       "style": "IPY_MODEL_c176c1a128974e5ea6c0834f6b302617",
       "value": " 232k/232k [00:00&lt;00:00, 675kB/s]"
      }
     },
     "c176c1a128974e5ea6c0834f6b302617": {
      "model_module": "@jupyter-widgets/controls",
      "model_module_version": "1.5.0",
      "model_name": "DescriptionStyleModel",
      "state": {
       "_model_module": "@jupyter-widgets/controls",
       "_model_module_version": "1.5.0",
       "_model_name": "DescriptionStyleModel",
       "_view_count": null,
       "_view_module": "@jupyter-widgets/base",
       "_view_module_version": "1.2.0",
       "_view_name": "StyleView",
       "description_width": ""
      }
     },
     "c3aa26e1fed7489fa440af8b074f6a88": {
      "model_module": "@jupyter-widgets/controls",
      "model_module_version": "1.5.0",
      "model_name": "DescriptionStyleModel",
      "state": {
       "_model_module": "@jupyter-widgets/controls",
       "_model_module_version": "1.5.0",
       "_model_name": "DescriptionStyleModel",
       "_view_count": null,
       "_view_module": "@jupyter-widgets/base",
       "_view_module_version": "1.2.0",
       "_view_name": "StyleView",
       "description_width": ""
      }
     },
     "c86bd5fff68847c28cfa7cf29138b73d": {
      "model_module": "@jupyter-widgets/controls",
      "model_module_version": "1.5.0",
      "model_name": "DescriptionStyleModel",
      "state": {
       "_model_module": "@jupyter-widgets/controls",
       "_model_module_version": "1.5.0",
       "_model_name": "DescriptionStyleModel",
       "_view_count": null,
       "_view_module": "@jupyter-widgets/base",
       "_view_module_version": "1.2.0",
       "_view_name": "StyleView",
       "description_width": ""
      }
     },
     "d73429292c7248b4a62d0cecbe7b89a4": {
      "model_module": "@jupyter-widgets/controls",
      "model_module_version": "1.5.0",
      "model_name": "HTMLModel",
      "state": {
       "_dom_classes": [],
       "_model_module": "@jupyter-widgets/controls",
       "_model_module_version": "1.5.0",
       "_model_name": "HTMLModel",
       "_view_count": null,
       "_view_module": "@jupyter-widgets/controls",
       "_view_module_version": "1.5.0",
       "_view_name": "HTMLView",
       "description": "",
       "description_tooltip": null,
       "layout": "IPY_MODEL_ff46d5dfccde4e13857aa67f4caa6fbe",
       "placeholder": "​",
       "style": "IPY_MODEL_c86bd5fff68847c28cfa7cf29138b73d",
       "value": " 466k/466k [00:00&lt;00:00, 1.01MB/s]"
      }
     },
     "d9ca9d9fb6484747a693ab79285d7d55": {
      "model_module": "@jupyter-widgets/base",
      "model_module_version": "1.2.0",
      "model_name": "LayoutModel",
      "state": {
       "_model_module": "@jupyter-widgets/base",
       "_model_module_version": "1.2.0",
       "_model_name": "LayoutModel",
       "_view_count": null,
       "_view_module": "@jupyter-widgets/base",
       "_view_module_version": "1.2.0",
       "_view_name": "LayoutView",
       "align_content": null,
       "align_items": null,
       "align_self": null,
       "border": null,
       "bottom": null,
       "display": null,
       "flex": null,
       "flex_flow": null,
       "grid_area": null,
       "grid_auto_columns": null,
       "grid_auto_flow": null,
       "grid_auto_rows": null,
       "grid_column": null,
       "grid_gap": null,
       "grid_row": null,
       "grid_template_areas": null,
       "grid_template_columns": null,
       "grid_template_rows": null,
       "height": null,
       "justify_content": null,
       "justify_items": null,
       "left": null,
       "margin": null,
       "max_height": null,
       "max_width": null,
       "min_height": null,
       "min_width": null,
       "object_fit": null,
       "object_position": null,
       "order": null,
       "overflow": null,
       "overflow_x": null,
       "overflow_y": null,
       "padding": null,
       "right": null,
       "top": null,
       "visibility": null,
       "width": null
      }
     },
     "ec29378ec3574e2c91ea8800dfbcf445": {
      "model_module": "@jupyter-widgets/controls",
      "model_module_version": "1.5.0",
      "model_name": "DescriptionStyleModel",
      "state": {
       "_model_module": "@jupyter-widgets/controls",
       "_model_module_version": "1.5.0",
       "_model_name": "DescriptionStyleModel",
       "_view_count": null,
       "_view_module": "@jupyter-widgets/base",
       "_view_module_version": "1.2.0",
       "_view_name": "StyleView",
       "description_width": ""
      }
     },
     "ec7548e10fc34f17bf74c39fa3940b2c": {
      "model_module": "@jupyter-widgets/controls",
      "model_module_version": "1.5.0",
      "model_name": "FloatProgressModel",
      "state": {
       "_dom_classes": [],
       "_model_module": "@jupyter-widgets/controls",
       "_model_module_version": "1.5.0",
       "_model_name": "FloatProgressModel",
       "_view_count": null,
       "_view_module": "@jupyter-widgets/controls",
       "_view_module_version": "1.5.0",
       "_view_name": "ProgressView",
       "bar_style": "success",
       "description": "",
       "description_tooltip": null,
       "layout": "IPY_MODEL_6c855d23a6984a9fb1c2f571c151857c",
       "max": 536063208,
       "min": 0,
       "orientation": "horizontal",
       "style": "IPY_MODEL_f2e38712a7c6442a98aa73b5cfe5a015",
       "value": 536063208
      }
     },
     "f00c275d756b4928bf08b3ce0047c536": {
      "model_module": "@jupyter-widgets/controls",
      "model_module_version": "1.5.0",
      "model_name": "HTMLModel",
      "state": {
       "_dom_classes": [],
       "_model_module": "@jupyter-widgets/controls",
       "_model_module_version": "1.5.0",
       "_model_name": "HTMLModel",
       "_view_count": null,
       "_view_module": "@jupyter-widgets/controls",
       "_view_module_version": "1.5.0",
       "_view_name": "HTMLView",
       "description": "",
       "description_tooltip": null,
       "layout": "IPY_MODEL_d9ca9d9fb6484747a693ab79285d7d55",
       "placeholder": "​",
       "style": "IPY_MODEL_ec29378ec3574e2c91ea8800dfbcf445",
       "value": "Downloading: 100%"
      }
     },
     "f2e38712a7c6442a98aa73b5cfe5a015": {
      "model_module": "@jupyter-widgets/controls",
      "model_module_version": "1.5.0",
      "model_name": "ProgressStyleModel",
      "state": {
       "_model_module": "@jupyter-widgets/controls",
       "_model_module_version": "1.5.0",
       "_model_name": "ProgressStyleModel",
       "_view_count": null,
       "_view_module": "@jupyter-widgets/base",
       "_view_module_version": "1.2.0",
       "_view_name": "StyleView",
       "bar_color": null,
       "description_width": ""
      }
     },
     "fa80823f28ae4f1eadc164f5f5cc2ee2": {
      "model_module": "@jupyter-widgets/controls",
      "model_module_version": "1.5.0",
      "model_name": "HBoxModel",
      "state": {
       "_dom_classes": [],
       "_model_module": "@jupyter-widgets/controls",
       "_model_module_version": "1.5.0",
       "_model_name": "HBoxModel",
       "_view_count": null,
       "_view_module": "@jupyter-widgets/controls",
       "_view_module_version": "1.5.0",
       "_view_name": "HBoxView",
       "box_style": "",
       "children": [
        "IPY_MODEL_0345f613fb974baf8a2debaf198e6aa5",
        "IPY_MODEL_feae1853e0894d8f965e31c7b4e8cd94",
        "IPY_MODEL_b0e5911c46f743738860f34248d1ebdf"
       ],
       "layout": "IPY_MODEL_879f5a9f36934024bb5ad15b2fc92401"
      }
     },
     "fd21f483d9ac4e6a93aade8a2b61223b": {
      "model_module": "@jupyter-widgets/base",
      "model_module_version": "1.2.0",
      "model_name": "LayoutModel",
      "state": {
       "_model_module": "@jupyter-widgets/base",
       "_model_module_version": "1.2.0",
       "_model_name": "LayoutModel",
       "_view_count": null,
       "_view_module": "@jupyter-widgets/base",
       "_view_module_version": "1.2.0",
       "_view_name": "LayoutView",
       "align_content": null,
       "align_items": null,
       "align_self": null,
       "border": null,
       "bottom": null,
       "display": null,
       "flex": null,
       "flex_flow": null,
       "grid_area": null,
       "grid_auto_columns": null,
       "grid_auto_flow": null,
       "grid_auto_rows": null,
       "grid_column": null,
       "grid_gap": null,
       "grid_row": null,
       "grid_template_areas": null,
       "grid_template_columns": null,
       "grid_template_rows": null,
       "height": null,
       "justify_content": null,
       "justify_items": null,
       "left": null,
       "margin": null,
       "max_height": null,
       "max_width": null,
       "min_height": null,
       "min_width": null,
       "object_fit": null,
       "object_position": null,
       "order": null,
       "overflow": null,
       "overflow_x": null,
       "overflow_y": null,
       "padding": null,
       "right": null,
       "top": null,
       "visibility": null,
       "width": null
      }
     },
     "fe4a4d301a48425f801302a3604ca2c6": {
      "model_module": "@jupyter-widgets/controls",
      "model_module_version": "1.5.0",
      "model_name": "DescriptionStyleModel",
      "state": {
       "_model_module": "@jupyter-widgets/controls",
       "_model_module_version": "1.5.0",
       "_model_name": "DescriptionStyleModel",
       "_view_count": null,
       "_view_module": "@jupyter-widgets/base",
       "_view_module_version": "1.2.0",
       "_view_name": "StyleView",
       "description_width": ""
      }
     },
     "feae1853e0894d8f965e31c7b4e8cd94": {
      "model_module": "@jupyter-widgets/controls",
      "model_module_version": "1.5.0",
      "model_name": "FloatProgressModel",
      "state": {
       "_dom_classes": [],
       "_model_module": "@jupyter-widgets/controls",
       "_model_module_version": "1.5.0",
       "_model_name": "FloatProgressModel",
       "_view_count": null,
       "_view_module": "@jupyter-widgets/controls",
       "_view_module_version": "1.5.0",
       "_view_name": "ProgressView",
       "bar_style": "success",
       "description": "",
       "description_tooltip": null,
       "layout": "IPY_MODEL_45ebc28a10364b15aac0fd4f92215f5c",
       "max": 28,
       "min": 0,
       "orientation": "horizontal",
       "style": "IPY_MODEL_a96682a25baa47ad868c74eacb411197",
       "value": 28
      }
     },
     "ff46d5dfccde4e13857aa67f4caa6fbe": {
      "model_module": "@jupyter-widgets/base",
      "model_module_version": "1.2.0",
      "model_name": "LayoutModel",
      "state": {
       "_model_module": "@jupyter-widgets/base",
       "_model_module_version": "1.2.0",
       "_model_name": "LayoutModel",
       "_view_count": null,
       "_view_module": "@jupyter-widgets/base",
       "_view_module_version": "1.2.0",
       "_view_name": "LayoutView",
       "align_content": null,
       "align_items": null,
       "align_self": null,
       "border": null,
       "bottom": null,
       "display": null,
       "flex": null,
       "flex_flow": null,
       "grid_area": null,
       "grid_auto_columns": null,
       "grid_auto_flow": null,
       "grid_auto_rows": null,
       "grid_column": null,
       "grid_gap": null,
       "grid_row": null,
       "grid_template_areas": null,
       "grid_template_columns": null,
       "grid_template_rows": null,
       "height": null,
       "justify_content": null,
       "justify_items": null,
       "left": null,
       "margin": null,
       "max_height": null,
       "max_width": null,
       "min_height": null,
       "min_width": null,
       "object_fit": null,
       "object_position": null,
       "order": null,
       "overflow": null,
       "overflow_x": null,
       "overflow_y": null,
       "padding": null,
       "right": null,
       "top": null,
       "visibility": null,
       "width": null
      }
     }
    },
    "version_major": 2,
    "version_minor": 0
   }
  }
 },
 "nbformat": 4,
 "nbformat_minor": 5
}
